{
 "cells": [
  {
   "cell_type": "code",
   "execution_count": 1,
   "metadata": {},
   "outputs": [],
   "source": [
    "import pandas as pd\n",
    "import numpy as np\n",
    "import warnings\n",
    "warnings.filterwarnings(\"ignore\")"
   ]
  },
  {
   "cell_type": "code",
   "execution_count": 2,
   "metadata": {},
   "outputs": [],
   "source": [
    "data = pd.read_csv('raw_2020.csv')\n",
    "data.drop('Timestamp', axis = 1, inplace = True)"
   ]
  },
  {
   "cell_type": "code",
   "execution_count": 3,
   "metadata": {},
   "outputs": [],
   "source": [
    "new_columns = { '¿Para qué tipo de empresa trabaja?': 'Tipo de Empresa',\n",
    "       'La empresa para la que usted trabaja se dedica principalmente a': 'Mercado',\n",
    "       '¿Cuantos años de fundada tiene la empresa para la que trabaja?': 'Edad Empresa',\n",
    "       '¿Cuál es su título en la empresa?':'Rol',\n",
    "       '¿Se considera usted fundador en la empresa?':'Fundador',\n",
    "       '¿Qué porcentaje de su tiempo laboral se ocupa en tareas relacionadas a desarrollo de software?': '% en Desarrollo',\n",
    "       '¿Qué porcentaje de su tiempo laboral se ocupa en gerencia de proyectos?':'% en Gerencia de proyectos',\n",
    "       '¿Qué porcentaje de su tiempo laboral se ocupa en liderazgo técnico?': '% liderazgo técnico',\n",
    "       '¿Qué porcentaje de su tiempo laboral se ocupa en gerencia de ingeniería?': '% Gerencia de ingeniería',\n",
    "       '¿Cuánto tiempo lleva en su cargo actual (incluyendo freelance)?':'Experiencia en rol actual',\n",
    "       '¿Cuántos años de experiencia en desarrollo de software profesional tiene?': 'Experiencia en desarrollo de software',\n",
    "       '¿En cuál de los siguientes lenguajes de programación ocupa la mayoría de su tiempo laboral?':'Lenguaje más usado',\n",
    "       '¿En qué otros lenguajes de programación ocupa su tiempo laboral?':'Otro lenguaje ',\n",
    "       'Tipo de relación laboral':'Tipo de relación laboral',\n",
    "       'Su modo de trabajo es: (ignorando el cambio por covid-19)': 'Modo de trabajo',\n",
    "       'Usted prefiere:':'Preferencias de modo', '¿Tiene titulo universitario o técnico?': 'Tipo de titulo',\n",
    "       '¿Estudió alguna carrera de PRE-grado relacionada a ingeniería de sistemas?':'PRE-grado relacionado Ing',\n",
    "       '¿Estudió alguna carrera de POSTgrado relacionada a ingeniería de sistemas?': 'POST-grado relacionado a Ing',\n",
    "       '¿Tomó clases de programación o algorítmia en la universidad?':'Clases de programación en la universidad',\n",
    "       '¿Cuál es su máximo titulo alcanzado (graduado)?':'Max Titulo',\n",
    "       '¿Ha estudiado en algún bootcamp de programación?': 'Bootcamp',\n",
    "       '¿Si ha estudiado en un bootcamp de programación, en cuál? (ingrese el url del bootcamp)': 'Url bootcamp',\n",
    "       '¿Cuál es su nivel de inglés para realizar conversaciones técnicas sobre software?':'Nivel de Ingles',\n",
    "       '¿A usted le pagan en pesos colombianos (COP) o dólares (USD)?': 'Moneda de Pago',\n",
    "       '¿Usando la moneda de la respuesta anterior, cuánto es su remuneración ANUAL base?  eg 36,000,000 si es pesos o 3,600 si es dólares': 'Remuneración Anual',\n",
    "       '¿Cuánto es su remuneración ANUAL adicional (usando la moneda que respondio anteriormente)?':'Remuneración anual adicional',\n",
    "       '¿Cuánto era la remuneración base ANUAL de su trabajo/rol anterior?':'Remuneración Anual anterior',\n",
    "       '¿Quién paga su seguro de salud?': 'Pago Seguro de Salud',\n",
    "       '¿Quién paga sus pensiones y cesantias?': 'Pago Seguridad Social',\n",
    "       '¿Tiene acciones (opciones/stock options/rsus) o dividendos de su empresa como parte de su compensación?':'Acciones dentro de la empresa',\n",
    "       '¿Si tiene acciones, cuántas tiene en total?':'Total acciones',\n",
    "       '¿Si tiene acciones, cuál es el precio de emisión por acción en USD? (use $3,750 como tasa de cambio si es necesario)':'Precio acciones',\n",
    "       '¿Trabaja usted en proyectos freelance a pesar de tener trabajo tiempo completo?':'Freelancer',\n",
    "       '¿Cuanto fue el total de sus ingresos adicionales de proyectos freelance el año pasado?':'Ingresos freelancer',\n",
    "       '¿Siente que su salario es justo?': 'Salario Justo',\n",
    "       '¿En qué sitio web busca oportunidades laborales principalmente?': 'Web de trabajo',\n",
    "       '¿En que ciudad de Colombia vive?': 'Ciudad Residencia', '¿Cuál es su país de procedencia?': 'Origen',\n",
    "       '¿En qué año nació?': 'Año de Nacimiento', '¿Cuantos hijos tiene?': 'Cnt Hijos',\n",
    "       '¿Con cual pronombre prefiere que se refieran a usted? ':'Genero',\n",
    "       '¿Se considera usted parte de una minoría racial o étnica?': 'Minoría racial o étnica',\n",
    "       '¿Cuantas horas trabaja por semana?': 'Horas de trabajo'\n",
    "          }\n"
   ]
  },
  {
   "cell_type": "code",
   "execution_count": 4,
   "metadata": {},
   "outputs": [],
   "source": [
    "data.rename(columns = new_columns, inplace = True)"
   ]
  },
  {
   "cell_type": "code",
   "execution_count": 5,
   "metadata": {},
   "outputs": [
    {
     "data": {
      "text/plain": [
       "(1703, 44)"
      ]
     },
     "execution_count": 5,
     "metadata": {},
     "output_type": "execute_result"
    }
   ],
   "source": [
    "data.shape"
   ]
  },
  {
   "cell_type": "code",
   "execution_count": 6,
   "metadata": {},
   "outputs": [],
   "source": [
    "# Por espacio reducire el string del pronombre\n",
    "data['Genero'] = data['Genero'].apply(lambda x : x.replace(' (tradicionalmente se identifica como hombre)',\"\"))\n",
    "data['Genero'] = data['Genero'].apply(lambda x : x.replace(' (tradicionalmente se identifica como mujer)',\"\"))"
   ]
  },
  {
   "cell_type": "code",
   "execution_count": 7,
   "metadata": {},
   "outputs": [
    {
     "data": {
      "text/plain": [
       "no tengo responsabilidades de este tipo    817\n",
       "0 - 10%                                    341\n",
       "10 - 20%                                   230\n",
       "20 - 30%                                   133\n",
       "30 - 40%                                    65\n",
       "40 - 50%                                    43\n",
       "50 - 60%                                    29\n",
       "60 - 70%                                    15\n",
       "90 - 100%                                   12\n",
       "70 - 80%                                     9\n",
       "80 - 90%                                     9\n",
       "Name: % en Gerencia de proyectos, dtype: int64"
      ]
     },
     "execution_count": 7,
     "metadata": {},
     "output_type": "execute_result"
    }
   ],
   "source": [
    "data['% en Gerencia de proyectos'].value_counts()"
   ]
  },
  {
   "cell_type": "code",
   "execution_count": 8,
   "metadata": {},
   "outputs": [],
   "source": [
    "import re\n",
    "def num(string):\n",
    "    out = re.sub(r'(?is)No tengo.+', '0', string)\n",
    "    return out[-4:].replace(\"%\",\"\")\n",
    "data['Máx % Dev'] = data['% en Desarrollo'].apply(lambda x : num(x)).astype(int)\n",
    "data['Máx % I.M'] = data['% Gerencia de ingeniería'].apply(lambda x : num(x)).astype(int)\n",
    "data['Máx % Tech L'] = data['% liderazgo técnico'].apply(lambda x : num(x)).astype(int)\n",
    "data['Máx % PM'] = data['% en Gerencia de proyectos'].apply(lambda x : num(x)).astype(int)"
   ]
  },
  {
   "cell_type": "code",
   "execution_count": 9,
   "metadata": {},
   "outputs": [
    {
     "data": {
      "text/plain": [
       "él              1522\n",
       "ella             174\n",
       "[redactado]        3\n",
       "AH-64 Apache       1\n",
       "don                1\n",
       "Ing                1\n",
       "no binario         1\n",
       "Name: Genero, dtype: int64"
      ]
     },
     "execution_count": 9,
     "metadata": {},
     "output_type": "execute_result"
    }
   ],
   "source": [
    "data['Genero'].value_counts()"
   ]
  },
  {
   "cell_type": "code",
   "execution_count": 10,
   "metadata": {},
   "outputs": [],
   "source": [
    "def rol_principal(w,x,y,z):\n",
    "    if w >=50:\n",
    "        return 'Desarrollo'\n",
    "    if x >= 50:\n",
    "        return 'Gerencia de Ingenieria'\n",
    "    if y >= 50:\n",
    "        return 'Liderazgo Técnico'\n",
    "    if z >= 50:\n",
    "        return 'Gestión de Proyectos'\n",
    "    else :\n",
    "        return \"Sin Clasificar\"\n",
    "    \n",
    "data['Rol principal'] = list(map(lambda w,x,y,z : rol_principal(w,x,y,z),data['Máx % Dev'], data['Máx % I.M'],data['Máx % Tech L'],data['Máx % PM']))"
   ]
  },
  {
   "cell_type": "code",
   "execution_count": 11,
   "metadata": {},
   "outputs": [
    {
     "data": {
      "text/plain": [
       "Desarrollo                1512\n",
       "Sin Clasificar             101\n",
       "Liderazgo Técnico           42\n",
       "Gestión de Proyectos        25\n",
       "Gerencia de Ingenieria      23\n",
       "Name: Rol principal, dtype: int64"
      ]
     },
     "execution_count": 11,
     "metadata": {},
     "output_type": "execute_result"
    }
   ],
   "source": [
    "data['Rol principal'].value_counts()"
   ]
  },
  {
   "cell_type": "code",
   "execution_count": 12,
   "metadata": {},
   "outputs": [],
   "source": [
    "df = pd.DataFrame(data.groupby(['Genero','Rol principal'])['Máx % Dev'].count())\n",
    "table = pd.pivot_table(df, values = 'Máx % Dev', index = 'Genero', columns = 'Rol principal').fillna(0)\n",
    "table['Total'] = table.sum(axis = 1)\n",
    "table= table.sort_values('Total', ascending = False).astype(int)\n",
    "table = table.reset_index()\n",
    "table.to_csv('tabla_1.csv')"
   ]
  },
  {
   "cell_type": "code",
   "execution_count": 13,
   "metadata": {},
   "outputs": [],
   "source": [
    "def normalize(city):\n",
    "    replacements = (\n",
    "        (\"á\", \"a\"),\n",
    "        (\"é\", \"e\"),\n",
    "        (\"í\", \"i\"),\n",
    "        (\"ó\", \"o\"),\n",
    "        (\"ú\", \"u\"),\n",
    "        (\"ü\", \"u\"),\n",
    "    )\n",
    "    for a, b in replacements:\n",
    "        city = city.replace(a, b).replace(a.upper(), b.upper()).capitalize().strip()\n",
    "    return  city"
   ]
  },
  {
   "cell_type": "code",
   "execution_count": 14,
   "metadata": {},
   "outputs": [],
   "source": [
    "def Sep_c(city):\n",
    "    city = city.split(',')\n",
    "    return city[0]\n",
    "\n",
    "def Sep_h(city):\n",
    "    city = city.split('-')\n",
    "    return city[0]\n",
    "\n",
    "def Sep_d(city):\n",
    "    return city.replace('\\t',\" \")\n",
    "\n",
    "import re\n",
    "\n",
    "def Medellin(city):\n",
    "    return  re.sub(r'(?is)Medell.+', 'Medellin', city)\n",
    "\n",
    "def Bogota(city):\n",
    "    return  re.sub(r'(?is)Bog.+', 'Bogota', city)\n",
    "\n",
    "def Popayan(city):\n",
    "    return  re.sub(r'(?is)Popay.+', 'Popayan', city)\n",
    "\n",
    "def wiki_city(city):\n",
    "    word_list = city.split('/')\n",
    "    c =  word_list[-1]\n",
    "    return re.sub(r'(?is)Https.+', c, city)\n",
    "\n",
    "def antioquia(city):\n",
    "    return city.replace(' antioquia',\"\")\n",
    "\n"
   ]
  },
  {
   "cell_type": "code",
   "execution_count": 15,
   "metadata": {},
   "outputs": [],
   "source": [
    "def wiki_city_2(city):\n",
    "    word_list = city.split(' ')\n",
    "    c =  word_list[-2]\n",
    "    return re.sub(r'\\d{3}.+',c,city)"
   ]
  },
  {
   "cell_type": "code",
   "execution_count": 16,
   "metadata": {},
   "outputs": [],
   "source": [
    "data['Ciudad Residencia'] = data['Ciudad Residencia'].apply(lambda x : wiki_city(x))\n",
    "data['Ciudad Residencia'] = data['Ciudad Residencia'].apply(lambda x : normalize(x))\n",
    "data['Ciudad Residencia'] = data['Ciudad Residencia'].apply(lambda x : Sep_d(x))\n",
    "data['Ciudad Residencia'] = data['Ciudad Residencia'].apply(lambda x : Sep_c(x))\n",
    "data['Ciudad Residencia'] = data['Ciudad Residencia'].apply(lambda x : Sep_h(x))\n",
    "data['Ciudad Residencia'] = data['Ciudad Residencia'].apply(lambda x : Medellin(x))\n",
    "data['Ciudad Residencia'] = data['Ciudad Residencia'].apply(lambda x : Bogota(x))\n",
    "data['Ciudad Residencia'] = data['Ciudad Residencia'].apply(lambda x : antioquia(x))\n",
    "data['Ciudad Residencia'] = data['Ciudad Residencia'].apply(lambda x : Popayan(x))\n"
   ]
  },
  {
   "cell_type": "code",
   "execution_count": 17,
   "metadata": {},
   "outputs": [],
   "source": [
    "data['Origen'] = data['Origen'].apply(lambda x : normalize(x))\n",
    "data['Origen'] = data['Origen'].apply(lambda x : x.replace(\"Venezolano\", \"Venezuela\"))\n"
   ]
  },
  {
   "cell_type": "code",
   "execution_count": 18,
   "metadata": {},
   "outputs": [],
   "source": [
    "def normalización_pesos(salario):\n",
    "\n",
    "    if    878000  <= salario <= 10533000:\n",
    "        salario = salario * 12\n",
    "    if salario < 878000 or salario > 1000000000:\n",
    "        salario = np.nan\n",
    "    return salario\n",
    "\n",
    "def normalización_dólares(salario):\n",
    "    if salario > 1000000 or salario < 1000:\n",
    "        salario = np.nan\n",
    "        return salario\n",
    "    else:\n",
    "        return salario\n",
    "\n",
    "def normalización_moneda(moneda,salario):\n",
    "    if moneda == 'pesos':\n",
    "        return normalización_pesos(salario)\n",
    "    else:\n",
    "        return normalización_dólares(salario)\n",
    "     "
   ]
  },
  {
   "cell_type": "code",
   "execution_count": 19,
   "metadata": {},
   "outputs": [],
   "source": [
    "data['Remuneración Anual'] = list(map(lambda x,y : normalización_moneda(x,y),data['Moneda de Pago'],data['Remuneración Anual']))\n",
    "data.dropna(subset = ['Remuneración Anual'], inplace = True)"
   ]
  },
  {
   "cell_type": "code",
   "execution_count": 20,
   "metadata": {},
   "outputs": [],
   "source": [
    "salarios_COP = data[data['Moneda de Pago'] == 'pesos']\n",
    "salarios_dólares = data[data['Moneda de Pago'] == 'dólares']"
   ]
  },
  {
   "cell_type": "code",
   "execution_count": 21,
   "metadata": {},
   "outputs": [],
   "source": [
    "#filtro salarios en pesos\n",
    "\n",
    "tercer_quantil = salarios_COP['Remuneración Anual'].quantile(0.75)\n",
    "primer_quantil = salarios_COP['Remuneración Anual'].quantile(0.25)\n",
    "iqr = tercer_quantil - primer_quantil\n",
    "min = primer_quantil - ( iqr* 1.5 )\n",
    "max = tercer_quantil + (iqr * 1.5)\n",
    "data_cfiltered = salarios_COP[(salarios_COP['Remuneración Anual'] >= min) & (salarios_COP['Remuneración Anual'] <= max)]\n"
   ]
  },
  {
   "cell_type": "code",
   "execution_count": 22,
   "metadata": {},
   "outputs": [
    {
     "data": {
      "text/plain": [
       "(211, 49)"
      ]
     },
     "execution_count": 22,
     "metadata": {},
     "output_type": "execute_result"
    }
   ],
   "source": [
    "#filtro salarios en dólares\n",
    "\n",
    "tercer_quantil = salarios_dólares['Remuneración Anual'].quantile(0.75)\n",
    "primer_quantil = salarios_dólares['Remuneración Anual'].quantile(0.25)\n",
    "iqr = tercer_quantil - primer_quantil\n",
    "min = primer_quantil - ( iqr* 1.5 )\n",
    "max = tercer_quantil + (iqr * 1.5)\n",
    "data_dfiltered = salarios_dólares[(salarios_dólares['Remuneración Anual'] >= min) & (salarios_dólares['Remuneración Anual'] <= max)]\n",
    "data_dfiltered.shape\n",
    "\n"
   ]
  },
  {
   "cell_type": "code",
   "execution_count": 23,
   "metadata": {},
   "outputs": [],
   "source": [
    "def month_to_year(empresa,salario,justo):\n",
    "    if empresa == 'empresa extranjera' and salario < 5000 and justo == 'si':\n",
    "        return salario*12\n",
    "    else:\n",
    "        return salario\n",
    "    \n",
    "def experiencie(experiencia,salario):\n",
    "    if experiencia == '5 - 10 años' and salario < 10000 :\n",
    "        return salario*12\n",
    "    else:\n",
    "        return salario\n",
    "    "
   ]
  },
  {
   "cell_type": "code",
   "execution_count": 24,
   "metadata": {},
   "outputs": [],
   "source": [
    "data_dfiltered['Remuneración Anual'] = list(map(lambda x,y,z : month_to_year(x,y,z), data_dfiltered['Tipo de Empresa'], data_dfiltered['Remuneración Anual'],data_dfiltered['Salario Justo']))\n",
    "data_dfiltered['Remuneración Anual'] = list(map(lambda x,y : experiencie(x,y), data_dfiltered['Experiencia en rol actual'], data_dfiltered['Remuneración Anual']))\n"
   ]
  },
  {
   "cell_type": "code",
   "execution_count": 25,
   "metadata": {},
   "outputs": [],
   "source": [
    "data_dfiltered['Remuneración Anual'].loc[579] = 3150*12\n",
    "data_dfiltered['Remuneración Anual'].loc[558] = 24000\n",
    "data_dfiltered['Remuneración Anual'].loc[795] = 3500*12\n",
    "data_dfiltered['Remuneración Anual'].loc[1371] = 1500*12"
   ]
  },
  {
   "cell_type": "code",
   "execution_count": 26,
   "metadata": {},
   "outputs": [],
   "source": [
    "indexs = [295,708,878,1095,1364,1522]\n",
    "data_dfiltered.drop(index= indexs, axis = 1, inplace = True)\n",
    "\n"
   ]
  },
  {
   "cell_type": "code",
   "execution_count": 27,
   "metadata": {},
   "outputs": [],
   "source": [
    "data_filtrada = pd.concat([data_cfiltered,data_dfiltered])\n",
    "data_filtrada.reset_index(drop = True, inplace = True)\n",
    "\n"
   ]
  },
  {
   "cell_type": "code",
   "execution_count": 28,
   "metadata": {},
   "outputs": [],
   "source": [
    "#Ingreso en Dólares todos.\n",
    "def ingreso_dólares(moneda,salario):\n",
    "    if moneda == 'pesos':\n",
    "        return round((salario/3700),1)\n",
    "    else:\n",
    "        return salario\n",
    "    \n",
    "data_filtrada['Ingreso en dólares'] = list(map(lambda x,y : ingreso_dólares(x,y),data_filtrada['Moneda de Pago'],data_filtrada['Remuneración Anual']))"
   ]
  },
  {
   "cell_type": "code",
   "execution_count": 29,
   "metadata": {},
   "outputs": [],
   "source": [
    "data_filtrada['Rol'].fillna('No especificado', inplace = True)\n",
    "data_filtrada['Nivel de Ingles'].fillna('No especificado', inplace = True)"
   ]
  },
  {
   "cell_type": "code",
   "execution_count": 30,
   "metadata": {},
   "outputs": [],
   "source": [
    "def num(string):\n",
    "    out = re.sub(r'(?is)No tengo.+', '0', string)\n",
    "    return out[-4:].replace(\"%\",\"\")\n"
   ]
  },
  {
   "cell_type": "code",
   "execution_count": 31,
   "metadata": {},
   "outputs": [],
   "source": [
    "data_filtrada['Máx % Dev'] = data_filtrada['% en Desarrollo'].apply(lambda x : num(x)).astype(int)\n",
    "data_filtrada['Máx % I.M'] = data_filtrada['% Gerencia de ingeniería'].apply(lambda x : num(x)).astype(int)\n",
    "data_filtrada['Máx % Tech L'] = data_filtrada['% liderazgo técnico'].apply(lambda x : num(x)).astype(int)\n",
    "data_filtrada['Máx % PM'] = data_filtrada['% en Gerencia de proyectos'].apply(lambda x : num(x)).astype(int)"
   ]
  },
  {
   "cell_type": "code",
   "execution_count": 32,
   "metadata": {},
   "outputs": [],
   "source": [
    "def rol_principal(w,x,y,z):\n",
    "    if w >=50:\n",
    "        return 'Desarrollo'\n",
    "    if x >= 50:\n",
    "        return 'Gerencia de Ingenieria'\n",
    "    if y >= 50:\n",
    "        return 'Liderazgo Técnico'\n",
    "    if z >= 50:\n",
    "        return 'Gestión de Proyectos'\n",
    "    else :\n",
    "        return \"Sin Clasificar\""
   ]
  },
  {
   "cell_type": "code",
   "execution_count": 33,
   "metadata": {},
   "outputs": [],
   "source": [
    "data_filtrada['Rol principal'] = list(map(lambda w,x,y,z : rol_principal(w,x,y,z),data_filtrada['Máx % Dev'], data_filtrada['Máx % I.M'],data_filtrada['Máx % Tech L'],data_filtrada['Máx % PM']))"
   ]
  },
  {
   "cell_type": "code",
   "execution_count": 53,
   "metadata": {},
   "outputs": [],
   "source": [
    "def k(string):\n",
    "    return string.lower().capitalize().strip()\n",
    "def PL_SQL(lenguaje):\n",
    "    return  re.sub(r'(?is).+PL.+', 'PL/SQL', lenguaje)\n",
    "def Angular(lenguaje):\n",
    "    return  re.sub(r'(?is)Angul.+', 'Angular', lenguaje)\n",
    "def No_respondio(lenguaje):\n",
    "    return  re.sub(r'(?is)no puedo.+', 'No respondio', lenguaje)    "
   ]
  },
  {
   "cell_type": "code",
   "execution_count": 54,
   "metadata": {},
   "outputs": [],
   "source": [
    "data_filtrada['Lenguaje más usado'].fillna(\"No respondio\", inplace = True)\n",
    "data_filtrada['Lenguaje más usado'].isnull().sum()\n",
    "data_filtrada['Lenguaje más usado'] = data_filtrada['Lenguaje más usado'].apply(lambda x:k(x))\n",
    "data_filtrada['Lenguaje más usado'] = data_filtrada['Lenguaje más usado'].apply(lambda x:PL_SQL(x))\n",
    "data_filtrada['Lenguaje más usado'] = data_filtrada['Lenguaje más usado'].apply(lambda x:No_respondio(x))"
   ]
  },
  {
   "cell_type": "code",
   "execution_count": 55,
   "metadata": {},
   "outputs": [],
   "source": [
    "def ingles(x):\n",
    "    if x ==  'ninguno':\n",
    "        return 0\n",
    "    elif x == 'básico (puede leer documentación y código en inglés)':\n",
    "        return 1\n",
    "    elif x == 'intermedio (puede pasar una entrevista de programación en ingles cómodamente)':\n",
    "        return 2\n",
    "    elif x == 'avanzado (puede liderar una reunion de varias personas en ingles comodamente)':\n",
    "        return 3\n",
    "    elif x == 'nativo':\n",
    "        return 4"
   ]
  },
  {
   "cell_type": "code",
   "execution_count": 56,
   "metadata": {},
   "outputs": [],
   "source": [
    "data_filtrada['Nivel de Ingles'] = data_filtrada['Nivel de Ingles'].apply(lambda x:ingles(x))"
   ]
  },
  {
   "cell_type": "code",
   "execution_count": 57,
   "metadata": {},
   "outputs": [],
   "source": [
    "def ingles2(x):\n",
    "    if x ==  0:\n",
    "        return 'Ninguno'\n",
    "    elif x ==  1:\n",
    "        return 'Básico'\n",
    "        \n",
    "    elif x == 2:\n",
    "        return 'Intermedio'\n",
    "    elif x == 3: \n",
    "        return 'Avanzado'\n",
    "        \n",
    "    elif x == 4:\n",
    "        return 'Nativo'"
   ]
  },
  {
   "cell_type": "code",
   "execution_count": 58,
   "metadata": {},
   "outputs": [],
   "source": [
    "df = data_filtrada\n",
    "df['Nivel de ingles'] = df['Nivel de Ingles'].apply(lambda x:ingles2(x))"
   ]
  },
  {
   "cell_type": "code",
   "execution_count": 59,
   "metadata": {},
   "outputs": [],
   "source": [
    "df['Ingreso en pesos'] =  df['Ingreso en dólares']*3700"
   ]
  },
  {
   "cell_type": "code",
   "execution_count": 60,
   "metadata": {},
   "outputs": [],
   "source": [
    "def order_by_exp(x):\n",
    "    if x ==  'menos de 1 año':\n",
    "        return 1\n",
    "    elif x ==  '1+ año':\n",
    "        return 2\n",
    "        \n",
    "    elif x == '2+ años':\n",
    "        return 3\n",
    "    elif x == '3 - 5 años': \n",
    "        return 4\n",
    "        \n",
    "    elif x == '5 - 10 años':\n",
    "        return 5\n",
    "    elif x == '10 - 15 años':\n",
    "        return 6\n",
    "    elif x == 'más de 15 años':\n",
    "        return 7"
   ]
  },
  {
   "cell_type": "code",
   "execution_count": 64,
   "metadata": {},
   "outputs": [],
   "source": [
    "df['Order by Exp'] = df['Experiencia en desarrollo de software'].apply(lambda x : order_by_exp(x))\n"
   ]
  },
  {
   "cell_type": "code",
   "execution_count": 65,
   "metadata": {},
   "outputs": [],
   "source": [
    "\n",
    "def Empresa(x):\n",
    "    if x == \"empresa extranjera\":\n",
    "        return \"Extranjera\"\n",
    "    elif x ==\"empresa Colombiana con mercado Colombiano\":\n",
    "        return \"Colombiana, Mer Local\"\n",
    "    elif x == \"empresa Colombiana con mercado latinoamericano\":\n",
    "        return \"Colombiana, Mer Latam\"\n",
    "    elif x == \"empresa Colombiana con mercado global \":\n",
    "        return \"Colombiana, Mer Global\"\n",
    "    elif x == \"empresa Colombiana con mercado EEUU\":\n",
    "        return \"Colombiana, Mer EEUU\"\n",
    "    elif x == 'soy independiente (freelance)':\n",
    "        return 'Freelancer'\n",
    "df['Tipo de Empresa'] = df['Tipo de Empresa'].apply(lambda x : Empresa(x))\n"
   ]
  },
  {
   "cell_type": "code",
   "execution_count": 66,
   "metadata": {},
   "outputs": [],
   "source": [
    "df.to_csv('data_limpia.csv')"
   ]
  }
 ],
 "metadata": {
  "kernelspec": {
   "display_name": "Python 3",
   "language": "python",
   "name": "python3"
  },
  "language_info": {
   "codemirror_mode": {
    "name": "ipython",
    "version": 3
   },
   "file_extension": ".py",
   "mimetype": "text/x-python",
   "name": "python",
   "nbconvert_exporter": "python",
   "pygments_lexer": "ipython3",
   "version": "3.6.8"
  }
 },
 "nbformat": 4,
 "nbformat_minor": 2
}
